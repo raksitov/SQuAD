{
 "cells": [
  {
   "cell_type": "code",
   "execution_count": 1,
   "metadata": {},
   "outputs": [],
   "source": [
    "import numpy as np"
   ]
  },
  {
   "cell_type": "code",
   "execution_count": 6,
   "metadata": {},
   "outputs": [
    {
     "name": "stdout",
     "output_type": "stream",
     "text": [
      "[[1 2 0 0]\n",
      " [3 4 0 0]]\n"
     ]
    }
   ],
   "source": [
    "x = np.array([[1, 2], [3, 4]])\n",
    "print np.pad(x, ((0, 0), (0, 2)), 'constant', constant_values=0)"
   ]
  },
  {
   "cell_type": "code",
   "execution_count": 11,
   "metadata": {},
   "outputs": [],
   "source": [
    "def pad_with(array, value=0):\n",
    "    return np.pad(array, ((0, 0), (0, 2)), 'constant', constant_values=value)"
   ]
  },
  {
   "cell_type": "code",
   "execution_count": 68,
   "metadata": {},
   "outputs": [
    {
     "name": "stdout",
     "output_type": "stream",
     "text": [
      "[[ 20.   0.   0.   0.   0.]\n",
      " [400.   0.   0.   0.   0.]]\n"
     ]
    }
   ],
   "source": [
    "def pad_with2(array, value=0):\n",
    "    x = np.zeros((2, 5))\n",
    "    x[:array.shape[0], :array.shape[1]] = array\n",
    "    return x\n",
    "print pad_with2(e[:,1:])"
   ]
  },
  {
   "cell_type": "code",
   "execution_count": 83,
   "metadata": {},
   "outputs": [
    {
     "name": "stdout",
     "output_type": "stream",
     "text": [
      "[[[ 10.  30.  20.   0.   0.]\n",
      "  [ 10.  30.   0.   0.   0.]]\n",
      "\n",
      " [[200. 100. 900.   0.   0.]\n",
      "  [100. 300.   0.   0.   0.]]]\n",
      "[[10. 30. 20.  0.  0.]\n",
      " [10. 30.  0.  0.  0.]]\n",
      "(0, 1)\n"
     ]
    }
   ],
   "source": [
    "s = pad_with2(np.array([[1, 3, 2], [1, 1, 3]]))\n",
    "e = np.array([[10, 10, 10], [200, 100, 300]])\n",
    "a = np.stack((s * pad_with2(e), s * pad_with2(e[:,1:])), axis=1)\n",
    "print a\n",
    "print a[0]\n",
    "print np.unravel_index(np.argmax(a[0]), a[0].shape)"
   ]
  },
  {
   "cell_type": "code",
   "execution_count": 84,
   "metadata": {},
   "outputs": [
    {
     "name": "stdout",
     "output_type": "stream",
     "text": [
      "[[0 1]\n",
      " [0 2]]\n",
      "[1 2]\n",
      "[1 2]\n"
     ]
    }
   ],
   "source": [
    "x = np.asarray([np.unravel_index(np.argmax(a[i]), a[i].shape) for i in xrange(a.shape[0])])\n",
    "print x\n",
    "print x[...,1]\n",
    "print x[...,1] + x[...,0]"
   ]
  },
  {
   "cell_type": "code",
   "execution_count": 87,
   "metadata": {},
   "outputs": [
    {
     "name": "stdout",
     "output_type": "stream",
     "text": [
      "[[1 2 3]\n",
      " [3 4 5]]\n",
      "[[3 2 1]\n",
      " [5 4 3]]\n"
     ]
    }
   ],
   "source": [
    "x = np.array([[1, 2, 3], [3, 4, 5]])\n",
    "print x\n",
    "np.random.shuffle(x.T)\n",
    "print x"
   ]
  }
 ],
 "metadata": {
  "kernelspec": {
   "display_name": "Python 2",
   "language": "python",
   "name": "python2"
  },
  "language_info": {
   "codemirror_mode": {
    "name": "ipython",
    "version": 2
   },
   "file_extension": ".py",
   "mimetype": "text/x-python",
   "name": "python",
   "nbconvert_exporter": "python",
   "pygments_lexer": "ipython2",
   "version": "2.7.12"
  }
 },
 "nbformat": 4,
 "nbformat_minor": 2
}
