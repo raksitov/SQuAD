{
 "cells": [
  {
   "cell_type": "code",
   "execution_count": null,
   "metadata": {
    "scrolled": false
   },
   "outputs": [],
   "source": [
    "data = {}\n",
    "for name in ['answer', 'context', 'question', 'span']:\n",
    "    data[name] = []\n",
    "    for dataset in ['train', 'dev']:\n",
    "        data[name].extend([y for y in open('{}.{}'.format(dataset, name))])\n",
    "\n",
    "#for x in xrange(3):\n",
    "#    print '\\nItem: {}'.format(x)\n",
    "#    for key in data:\n",
    "#        print data[key][x]"
   ]
  },
  {
   "cell_type": "code",
   "execution_count": null,
   "metadata": {},
   "outputs": [],
   "source": [
    "import matplotlib.pyplot as plt\n",
    "tokens = [len(x.split()) for x in data['answer']]\n",
    "print len(tokens)\n",
    "print min(tokens), max(tokens)\n",
    "print len([t for t in tokens if t > 20])\n",
    "print len([t for t in tokens if t > 25])\n",
    "print len([t for t in tokens if t > 30])\n",
    "plt.hist(tokens, bins=6, range=(0,30))\n",
    "plt.show()"
   ]
  },
  {
   "cell_type": "code",
   "execution_count": null,
   "metadata": {},
   "outputs": [],
   "source": [
    "tokens = [len(x.split()) for x in data['context']]\n",
    "print len(tokens)\n",
    "print min(tokens), max(tokens)\n",
    "print len([t for t in tokens if t > 300])\n",
    "print len([t for t in tokens if t > 350])\n",
    "print len([t for t in tokens if t > 400])\n",
    "print len([t for t in tokens if t > 500])\n",
    "plt.hist(tokens, bins=10, range=(0,500))\n",
    "plt.show()"
   ]
  },
  {
   "cell_type": "code",
   "execution_count": null,
   "metadata": {
    "scrolled": true
   },
   "outputs": [],
   "source": [
    "tokens = [len(x.split()) for x in data['question']]\n",
    "print len(tokens)\n",
    "print min(tokens), max(tokens)\n",
    "print len([t for t in tokens if t > 20])\n",
    "print len([t for t in tokens if t > 25])\n",
    "print len([t for t in tokens if t > 30])\n",
    "plt.hist(tokens, bins=10, range=(0,30))\n",
    "plt.show()"
   ]
  },
  {
   "cell_type": "code",
   "execution_count": null,
   "metadata": {
    "scrolled": true
   },
   "outputs": [],
   "source": [
    "tokens = [int(x.split()[1]) for x in data['span']]\n",
    "print len(tokens)\n",
    "print min(tokens), max(tokens)\n",
    "print len([t for t in tokens if t > 200])\n",
    "print len([t for t in tokens if t > 250])\n",
    "print len([t for t in tokens if t > 300])\n",
    "print len([t for t in tokens if t > 400])\n",
    "print len([t for t in tokens if t > 500])\n",
    "print len([t for t in tokens if t > 600])\n",
    "plt.hist(tokens, bins=10, range=(0,300))\n",
    "plt.show()"
   ]
  },
  {
   "cell_type": "code",
   "execution_count": null,
   "metadata": {},
   "outputs": [],
   "source": [
    "lengths = [len(x.split()) for x in data['context']]\n",
    "ends = [int(x.split()[1]) for x in data['span']]\n",
    "#percentages = [e * 100. / l for e, l in zip(ends, lengths)]\n",
    "#plt.hist(percentages, bins=100, range=(0,101))\n",
    "#plt.show()\n",
    "\n",
    "ends97 = [e for e, l in zip(ends, lengths) if e * 100 > 97 * l]\n",
    "print len(ends97), min(ends97), max(ends97)\n",
    "print len([t for t in ends97 if t > 200])\n",
    "plt.hist(ends97, bins=100, range=(0, 456))\n",
    "plt.show()"
   ]
  }
 ],
 "metadata": {
  "kernelspec": {
   "display_name": "Python 2",
   "language": "python",
   "name": "python2"
  },
  "language_info": {
   "codemirror_mode": {
    "name": "ipython",
    "version": 2
   },
   "file_extension": ".py",
   "mimetype": "text/x-python",
   "name": "python",
   "nbconvert_exporter": "python",
   "pygments_lexer": "ipython2",
   "version": "2.7.12"
  }
 },
 "nbformat": 4,
 "nbformat_minor": 2
}
